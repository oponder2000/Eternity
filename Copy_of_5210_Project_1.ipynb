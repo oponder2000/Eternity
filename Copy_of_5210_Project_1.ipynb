{
  "cells": [
    {
      "cell_type": "markdown",
      "metadata": {
        "id": "view-in-github",
        "colab_type": "text"
      },
      "source": [
        "<a href=\"https://colab.research.google.com/github/oponder2000/Eternity/blob/main/Copy_of_5210_Project_1.ipynb\" target=\"_parent\"><img src=\"https://colab.research.google.com/assets/colab-badge.svg\" alt=\"Open In Colab\"/></a>"
      ]
    },
    {
      "cell_type": "markdown",
      "metadata": {
        "id": "9zcLwWLtIgLB"
      },
      "source": [
        "This is a basic tool for graph (or network, we shall use the terms interchangeably) creation and traversal.\n",
        "\n",
        "This tutorial MUST be read in conjunction with the official networkx documentation which is at: https://networkx.org/documentation/stable/reference/index.html"
      ]
    },
    {
      "cell_type": "markdown",
      "metadata": {
        "id": "QIuwUcKUpCQF"
      },
      "source": [
        "This tutorial is the backbone of project1 when used with the document that describes the adaptive shortest path method."
      ]
    },
    {
      "cell_type": "code",
      "execution_count": null,
      "metadata": {
        "id": "W1QiQzRXC4xk",
        "colab": {
          "base_uri": "https://localhost:8080/"
        },
        "outputId": "d4f2291a-c143-4d9b-ad7f-d8fa73f3e419"
      },
      "outputs": [
        {
          "output_type": "stream",
          "name": "stdout",
          "text": [
            "[0, 1, 2, 3, 4, 5, 6, 7, 8, 9]\n"
          ]
        }
      ],
      "source": [
        "import networkx as nx\n",
        "# seed=1208           # seed the graph for reproducibility, you should be doing this  \n",
        "# G = nx.erdos_renyi_graph (100, .025, seed=seed )       # here we create a random binomial graph with 10 nodes and an average (expected) connectivity of 10*.3= 3.\n",
        "seed=1000           # seed the graph for reproducibility, you should be doing this  \n",
        "G = nx.erdos_renyi_graph (10, .3, seed=seed )       # here we create a random binomial graph with 10 nodes and an average (expected) connectivity of 10*.3= 3.\n",
        "print ( G.nodes() )"
      ]
    },
    {
      "cell_type": "code",
      "execution_count": null,
      "metadata": {
        "id": "PiKr_BgwoZbC",
        "colab": {
          "base_uri": "https://localhost:8080/"
        },
        "outputId": "d9e5df93-583d-4099-fcfa-b7f016fb33c4"
      },
      "outputs": [
        {
          "output_type": "execute_result",
          "data": {
            "text/plain": [
              "True"
            ]
          },
          "metadata": {},
          "execution_count": 2
        }
      ],
      "source": [
        "nx.is_connected(G)      # check whether which has at least one path between each pair of nodes. "
      ]
    },
    {
      "cell_type": "code",
      "execution_count": null,
      "metadata": {
        "colab": {
          "base_uri": "https://localhost:8080/"
        },
        "id": "b5FVMIldD6Wk",
        "outputId": "aaf2686f-586a-45fe-f17d-2eec8d5367ee"
      },
      "outputs": [
        {
          "output_type": "stream",
          "name": "stdout",
          "text": [
            "[(0, 3), (0, 8), (1, 4), (1, 6), (1, 8), (2, 8), (3, 8), (4, 5), (4, 6), (4, 7), (4, 9), (5, 7), (6, 7), (6, 8), (7, 9)]\n"
          ]
        }
      ],
      "source": [
        "print(G.edges())"
      ]
    },
    {
      "cell_type": "code",
      "execution_count": null,
      "metadata": {
        "id": "b6nWI_rOKMeo"
      },
      "outputs": [],
      "source": [
        "import matplotlib.pyplot as plt\n",
        "import time\n",
        "\n",
        "cust_queue = []\n",
        "tot_num_cust = 0\n",
        "\n",
        "# TESTING: delete when done\n",
        "# test_cust_queue = [(2,9), (8,4), (5,6), (1,2), (3,9), (9,7), (4,6)]\n",
        "# path_test = find_shortest_path(2, 9)\n",
        "# print(path_test)\n",
        "\n",
        "# create the list of vans\n",
        "van_list = {\"location\": 1, \"path\": [], \"cust\": [], \"new_cust\": 0}\n",
        "# van_list[\"path\"] = path_test\n",
        "\n",
        "print(van_list[\"cust\"])\n",
        "\n",
        "# # create 28 to 40 initial customers in queue\n",
        "# add_to_queue(cust_queue, tot_num_cust)\n",
        "\n",
        "# set node colors\n",
        "color_map = [\"green\"] * len(G)\n",
        "for van in van_list:\n",
        "  color_map[van_list[\"location\"]] = \"red\"\n",
        "\n",
        "# get list of edges and node positions\n",
        "links = [(u, v) for (u, v, d) in G.edges(data=True)]\n",
        "pos = nx.nx_pydot.graphviz_layout(G) \n",
        "\n",
        "# create a loop that tracks the vans by changing the color of the current node they are on\n",
        "# vans travel 30 mph\n",
        "# distance between nodes is 1 mile\n",
        "# to speed up time, vans will travel 1 mile every 2 seconds\n",
        "count = 0\n",
        "while van_list[\"path\"]:\n",
        "  # plt.clf()\n",
        "  color_map[van_list[\"location\"]] = \"green\"\n",
        "  i = van_list[\"path\"].pop(0)\n",
        "  van_list[\"location\"] = i\n",
        "  color_map[van_list[\"location\"]] = \"red\"\n",
        "  nx.draw_networkx_nodes(G, pos, node_size=200, node_color=color_map, linewidths=0.25)\n",
        "  nx.draw_networkx_edges(G, pos, edgelist=links, width=2)\n",
        "  nx.draw_networkx_labels(G, pos, font_size=10, font_family=\"sans-serif\")\n",
        "  plt.show()\n",
        "  time.sleep(2)\n",
        "  count += 2\n",
        "  if count == 4:\n",
        "    add_to_queue(cust_queue, tot_num_cust)\n",
        "    count = 0\n",
        "  \n",
        "# display graph\n",
        "# nx.draw(G, node_color=color_map, with_labels=True)\n",
        "# plt.show()\n"
      ]
    },
    {
      "cell_type": "code",
      "source": [
        "# TESTING: delete when done\n",
        "test_cust_queue = [(2,9), (7,4), (5,6), (1,2), (3,9), (9,7), (4,6)]\n",
        "path = []\n",
        "num_new_cust = 0\n",
        "\n",
        "while len(van_list[\"cust\"]) < 3:\n",
        "  van_list[\"cust\"].insert(len(van_list[\"cust\"]),test_cust_queue.pop(0))\n",
        "  num_new_cust += 1\n",
        "  # print(num_new_cust)\n",
        "  # print(van_list[\"cust\"])\n",
        "\n",
        "for i in range(0, num_new_cust):\n",
        "  print(i)\n",
        "\n",
        "\n",
        "\n",
        "# # from van location to cust1 pickup\n",
        "# temp = find_shortest_path(van_list[\"location\"],van_list[\"cust\"][0][0])\n",
        "# temp.pop(0)\n",
        "# path += temp\n",
        "# print(\"from van location to cust1 pickup\", path)\n",
        "# # from cust1 pickup to cust2 pickup\n",
        "# temp = find_shortest_path(van_list[\"cust\"][0][0],van_list[\"cust\"][1][0])\n",
        "# temp.pop(0)\n",
        "# path += temp\n",
        "# print(\"from cust1 pickup to cust2 pickup\", path)\n",
        "# # from cust2 pickup to cust3 pickup\n",
        "# temp = find_shortest_path(van_list[\"cust\"][1][0],van_list[\"cust\"][2][0])\n",
        "# temp.pop(0)\n",
        "# path += temp\n",
        "# print(\"from cust1 pickup to cust3 pickup\", path)\n"
      ],
      "metadata": {
        "id": "evxr_uM5m8UU"
      },
      "execution_count": null,
      "outputs": []
    },
    {
      "cell_type": "code",
      "source": [
        "def add_cust_to_vans(van_list):\n",
        "  for i in range (0,30):\n",
        "    # customer 1\n",
        "    van_list[i][\"path\"]\n",
        "    van_list[i][\"location\"]\n",
        "    van_list[i][\"cust\"][0][0] # should be customer 1 pickup in van list\n",
        "    van_list[i][\"cust\"][0][1] # should be customer 1 dropoff in van list\n",
        "    van_list[i][\"cust\"][1] # should be customer 2 in van list\n",
        "    van_list[i][\"cust\"][2] # should be customer 3 in van list\n",
        "\n",
        "\n",
        "# CASE 1: one customer added to van queue\n",
        "# van path queue is empty\n",
        "if not van_list[\"path\"]:\n",
        "    # calculate from vans current location to customer pickup\n",
        "    temp_list = find_shortest_path(van_curr_location, customer pickup location)\n",
        "    temp_list.pop(0)\n",
        "    van_list[\"path\"] += temp_list\n",
        "# van path queue is not empty\n",
        "else:\n",
        "    temp_list = find_shortest_path(van_final_location, customer pickup location)\n",
        "    temp_list.pop(0)\n",
        "    van_list[\"path\"] += temp_list\n",
        "\n",
        "# CASE 2: two customers added to van queue\n",
        "# van path queue is empty\n",
        "if not van_list[\"path\"]:\n",
        "    distance1 = find_path_length(van curr location, cust1 pickup)\n",
        "    distance2 = find_path_length(van curr location, cust2 pickup)\n",
        "\n",
        "    if distance1 < distance2:\n",
        "        # calculate from cust1 pickup to cust1 dropoff\n",
        "        # calculate from cust1 dropoff to cust2 pickup\n",
        "        # calculate from cust1 pickup to cust2 pickup\n",
        "        distance3 = find_path_length(cust1 pickup, cust1 dropoff)\n",
        "        distance4 = find_path_length(cust1 dropoff, cust2 pickup)\n",
        "        distance5 = find_path_length(cust1 pickup, cust2 pickup)\n",
        "\n",
        "        if(distance3 + distance4) <= distance5:\n",
        "            # dropoff cust1, then pickup cust2 //OP more detailed psuedocode\n",
        "            #OP pickup customer 1\n",
        "            temp_list = find_shortest_path(van_curr_location, cust1 pickup location)\n",
        "            temp_list.pop(0)\n",
        "            van_list[\"path\"] += temp_list\n",
        "            #OP dropoff customer 1\n",
        "            temp_list = find_shortest_path(cust1 pickup location, cust1 dropoff location)\n",
        "            temp_list.pop(0)\n",
        "            van_list[\"path\"] += temp_list\n",
        "            #OP pickup customer 2\n",
        "            temp_list = find_shortest_path(cust1 dropoff location, cust2 pickup location)\n",
        "            temp_list.pop(0)\n",
        "            van_list[\"path\"] += temp_list\n",
        "            #OP dropoff customer 2\n",
        "            temp_list = find_shortest_path(cust2 pickup location, cust2 dropoff location)\n",
        "            temp_list.pop(0)\n",
        "            van_list[\"path\"] += temp_list\n",
        "\n",
        "        else:\n",
        "            # pickup cust1, then pickup cust2 //OP more detailed pseudocode\n",
        "            #OP pickup customer 1\n",
        "            temp_list = find_shortest_path(van_curr_location, cust1 pickup location)\n",
        "            temp_list.pop(0)\n",
        "            van_list[\"path\"] += temp_list\n",
        "            #OP pickup customer 2\n",
        "            temp_list = find_shortest_path(cust1 pickup location, cust2 pickup location)\n",
        "            temp_list.pop(0)\n",
        "            van_list[\"path\"] += temp_list\n",
        "            #OP dropoff customer 1\n",
        "            temp_list = find_shortest_path(cust2 pickup location, cust1 dropoff location)\n",
        "            temp_list.pop(0)\n",
        "            van_list[\"path\"] += temp_list\n",
        "            #OP dropoff customer 2\n",
        "            temp_list = find_shortest_path(cust1 dropoff location, cust2 dropoff location)\n",
        "            temp_list.pop(0)\n",
        "            van_list[\"path\"] += temp_list\n",
        "\n",
        "    else:\n",
        "        # distance2 < distance1\n",
        "        # calculate from cust2 pickup to cust2 dropoff\n",
        "        # calculate from cust2 dropoff to cust1 pickup\n",
        "        # caluclate from cust2 pickup to cust1 pickup\n",
        "        distance3 = find_path_length(cust2 pickup, cust2 dropoff)\n",
        "        distance4 = find_path_length(cust2 dropoff, cust1 pickup)\n",
        "        distance5 = find_path_length(cust2 pickup, cust1 pickup)\n",
        "\n",
        "        if(distance3 + distance4) <= distance5:\n",
        "            # dropoff cust2, then pickup cust1 //OP more detailed psuedocode\n",
        "            #OP pickup customer 2\n",
        "            temp_list = find_shortest_path(van_curr_location, cust2 pickup location)\n",
        "            temp_list.pop(0)\n",
        "            van_list[\"path\"] += temp_list\n",
        "            #OP dropoff customer 2\n",
        "            temp_list = find_shortest_path(cust 2 pickup location, cust2 dropoff location)\n",
        "            temp_list.pop(0)\n",
        "            van_list[\"path\"] += temp_list\n",
        "            #OP pickup customer 1\n",
        "            temp_list = find_shortest_path(cust2 dropoff location, cust1 pickup location)\n",
        "            temp_list.pop(0)\n",
        "            van_list[\"path\"] += temp_list\n",
        "            #OP dropoff customer 1\n",
        "            temp_list = find_shortest_path(cust1 pickup location, cust1 dropoff location)\n",
        "            temp_list.pop(0)\n",
        "            van_list[\"path\"] += temp_list\n",
        "\n",
        "        else:\n",
        "            # pickup cust2, then pickup cust1 //OP more detailed pseudocode\n",
        "            #OP pickup customer 2\n",
        "            temp_list = find_shortest_path(van_curr_location, cust2 pickup location)\n",
        "            temp_list.pop(0)\n",
        "            van_list[\"path\"] += temp_list\n",
        "            #OP pickup customer 1\n",
        "            temp_list = find_shortest_path(cust 2 pickup location, cust1 pickup location)\n",
        "            temp_list.pop(0)\n",
        "            van_list[\"path\"] += temp_list\n",
        "            #OP dropoff customer 2\n",
        "            temp_list = find_shortest_path(cust1 pickup location, cust2 dropoff location)\n",
        "            temp_list.pop(0)\n",
        "            van_list[\"path\"] += temp_list\n",
        "            #OP dropoff customer 1\n",
        "            temp_list = find_shortest_path(cust 2 dropoff location, cust1 dropoff location)\n",
        "            temp_list.pop(0)\n",
        "            van_list[\"path\"] += temp_list\n",
        "\n",
        "# van path queue is not empty   \n",
        "else:\n",
        "# drop off current customers before pickup up new customers\n",
        "    distance1 = find_path_length(van final location, cust1 pickup)\n",
        "    distance2 = find_path_length(van final location, cust2 pickup)\n",
        "\n",
        "    if distance1 < distance2:\n",
        "        # calculate from cust1 pickup to cust1 dropoff\n",
        "        # calculate from cust1 dropoff to cust2 pickup\n",
        "        # caluclate from cust1 pickup to cust2 pickup\n",
        "        distance3 = find_path_length(cust1 pickup, cust1 dropoff)\n",
        "        distance4 = find_path_length(cust1 dropoff, cust2 pickup)\n",
        "        distance5 = find_path_length(cust1 pickup, cust2 pickup)\n",
        "\n",
        "        if(distance3 + distance4) <= distance5:\n",
        "            # dropoff cust1, then pickup cust2 //OP more detailed pseudocode\n",
        "            #OP pickup customer 1\n",
        "            temp_list = find_shortest_path(van_final_location, cust1 pickup location)\n",
        "            temp_list.pop(0)\n",
        "            van_list[\"path\"] += temp_list\n",
        "            #OP dropoff customer 1\n",
        "            temp_list = find_shortest_path(cust1 pickup location, cust1 dropoff location)\n",
        "            temp_list.pop(0)\n",
        "            van_list[\"path\"] += temp_list\n",
        "            #OP pickup customer 2\n",
        "            temp_list = find_shortest_path(cust1 dropoff location, cust2 pickup location)\n",
        "            temp_list.pop(0)\n",
        "            van_list[\"path\"] += temp_list\n",
        "            #OP dropoff customer 2\n",
        "            temp_list = find_shortest_path(cust2 pickup location, cust2 dropoff location)\n",
        "            temp_list.pop(0)\n",
        "            van_list[\"path\"] += temp_list\n",
        "        else:\n",
        "            # pickup cust1, then pickup cust2 //OP more detailed psuedocode\n",
        "            #OP pickup customer 1\n",
        "            temp_list = find_shortest_path(van_final_location, cust1 pickup location)\n",
        "            temp_list.pop(0)\n",
        "            van_list[\"path\"] += temp_list\n",
        "            #OP pickup customer 2\n",
        "            temp_list = find_shortest_path(cust1 pickup location, cust2 pickup location)\n",
        "            temp_list.pop(0)\n",
        "            van_list[\"path\"] += temp_list\n",
        "            #OP dropoff customer 1\n",
        "            temp_list = find_shortest_path(cust2 pickup location, cust1 dropoff location)\n",
        "            temp_list.pop(0)\n",
        "            van_list[\"path\"] += temp_list\n",
        "            #OP dropoff customer 2\n",
        "            temp_list = find_shortest_path(cust1 dropoff location, cust2 dropoff location)\n",
        "            temp_list.pop(0)\n",
        "            van_list[\"path\"] += temp_list\n",
        "\n",
        "    else:\n",
        "        # distance2 < distance1\n",
        "        # calculate from cust2 pickup to cust2 dropoff\n",
        "        # calculate from cust2 dropoff to cust1 pickup\n",
        "        # caluclate from cust2 pickup to cust1 pickup\n",
        "        distance3 = find_path_length(cust2 pickup, cust2 dropoff)\n",
        "        distance4 = find_path_length(cust2 dropoff, cust1 pickup)\n",
        "        distance5 = find_path_length(cust2 pickup, cust1 pickup)\n",
        "\n",
        "        if(distance3 + distance4) <= distance5:\n",
        "            # dropoff cust2, then pickup cust1 //OP more detailed pseudocode\n",
        "            #OP pickup customer 2\n",
        "            temp_list = find_shortest_path(van_final_location, cust2 pickup location)\n",
        "            temp_list.pop(0)\n",
        "            van_list[\"path\"] += temp_list\n",
        "            #OP dropoff customer 2\n",
        "            temp_list = find_shortest_path(cust 2 pickup location, cust2 dropoff location)\n",
        "            temp_list.pop(0)\n",
        "            van_list[\"path\"] += temp_list\n",
        "            #OP pickup customer 1\n",
        "            temp_list = find_shortest_path(cust2 dropoff location, cust1 pickup location)\n",
        "            temp_list.pop(0)\n",
        "            van_list[\"path\"] += temp_list\n",
        "            #OP dropoff customer 1\n",
        "            temp_list = find_shortest_path(cust1 pickup location, cust1 dropoff location)\n",
        "            temp_list.pop(0)\n",
        "            van_list[\"path\"] += temp_list\n",
        "        else:\n",
        "            # pickup cust2, then pickup cust1 //OP more detailed pseudocode\n",
        "            #OP pickup customer 2\n",
        "            temp_list = find_shortest_path(van_final_location, cust2 pickup location)\n",
        "            temp_list.pop(0)\n",
        "            van_list[\"path\"] += temp_list\n",
        "            #OP pickup customer 1\n",
        "            temp_list = find_shortest_path(cust 2 pickup location, cust1 pickup location)\n",
        "            temp_list.pop(0)\n",
        "            van_list[\"path\"] += temp_list\n",
        "            #OP dropoff customer 2\n",
        "            temp_list = find_shortest_path(cust1 pickup location, cust2 dropoff location)\n",
        "            temp_list.pop(0)\n",
        "            van_list[\"path\"] += temp_list\n",
        "            #OP dropoff customer 1\n",
        "            temp_list = find_shortest_path(cust 2 dropoff location, cust1 dropoff location)\n",
        "            temp_list.pop(0)\n",
        "            van_list[\"path\"] += temp_list\n",
        "\n",
        "# CASE 3: three customers added to van queue\n",
        "distance1 = find_path_length(van curr location, cust1 pickup)\n",
        "distance2 = find_path_length(van curr location, cust2 pickup)\n",
        "distance3 = find_path_length(van curr location, cust3 pickup)\n",
        "\n",
        "# picking up cust1 first\n",
        "if distance1 <= distance2:\n",
        "    if distance1 < distance3:\n",
        "        # add path from van to cust1 to queue\n",
        "        temp_list = find_shortest_path(van_curr_location, cust1 pickup location)\n",
        "        temp_list.pop(0)\n",
        "        van_list[\"path\"] += temp_list\n",
        "\n",
        "        # then calculate distance from cust1 pickup to cust2 pickup\n",
        "        distance1p2p = find_path_length(cust1 pickup, cust2 pickup)\n",
        "        # then calculate distance from cust1 pickup to cust3 pickup\n",
        "        distance1p3p = find_path_length(cust1 pickup, cust3 pickup)\n",
        "        # then find who is closer: cust2 or cust3\n",
        "\n",
        "        if distance1p2p < distance1p3p:\n",
        "            # check if we can dropoff cust1 before picking up cust2\n",
        "            distance1p1d = find_path_length(cust1 pickup, cust1 dropoff)\n",
        "            distance1d2p = find_path_length(cust1 dropoff, cust2 pickup)\n",
        "            distance1p2p = find_path_length(cust1 pickup, cust2 pickup)\n",
        "\n",
        "            if (distance1p1d + distance1d2p) <= distance1p2p:\n",
        "                #dropoff cust1, then pickup cust2\n",
        "                temp_list = find_shortest_path(cust1 pickup location, cust1 dropoff location)\n",
        "                temp_list.pop(0)\n",
        "                van_list[\"path\"] += temp_list\n",
        "                temp_list = find_shortest_path(cust1 dropoff location, cust2 pickup location)\n",
        "                temp_list.pop(0)\n",
        "                van_list[\"path\"] += temp_list\n",
        "\n",
        "                distance2p2d = find_path_length(cust2 pickup location, cust2 dropoff location)\n",
        "                distance2d3p = find_path_length(cust2 dropoff location, cust3 pickup location)\n",
        "                distance2p3p = find_path_length(cust2 pickup location, cust3 pickup location)\n",
        "\n",
        "                #OP check if dropoff cust2 before picking up cust3\n",
        "                if (distance2p2d + distance2d3p) <= distance2p3p:\n",
        "                    temp_list = find_shortest_path(cust2 pickup location, cust2 dropoff location)\n",
        "                    temp_list.pop(0)\n",
        "                    van_list[\"path\"] += temp_list\n",
        "                    temp_list = find_shortest_path(cust2 dropoff location, cust3 pickup location)\n",
        "                    temp_list.pop(0)\n",
        "                    van_list[\"path\"] += temp_list\n",
        "                    temp_list = find_shortest_path(cust3 pickup location, cust3 dropoff location)\n",
        "                    temp_list.pop(0)\n",
        "                    van_list[\"path\"] += temp_list\n",
        "\n",
        "                #pickup cust3 before dropping off cust2\n",
        "                else:\n",
        "                    temp_list = find_shortest_path(cust2 pickup location, cust3 pickup location)\n",
        "                    temp_list.pop(0)\n",
        "                    van_list[\"path\"] += temp_list\n",
        "                    temp_list = find_shortest_path(cust3 pickup location, cust2 dropoff location)\n",
        "                    temp_list.pop(0)\n",
        "                    van_list[\"path\"] += temp_list\n",
        "                    temp_list = find_shortest_path(cust2 dropoff location, cust3 dropoff location)\n",
        "                    temp_list.pop(0)\n",
        "                    van_list[\"path\"] += temp_list\n",
        "\n",
        "            #pickup cust2 before dropping off cust1\n",
        "            else:\n",
        "                  temp_list = find_shortest_path(cust1 pickup location, cust2 pickup location)\n",
        "                  temp_list.pop(0)\n",
        "                  van_list[\"path\"] += temp_list\n",
        "\n",
        "                # check if we can dropff cust1 and cust2 before picking up cust3\n",
        "                distance2p1d = find_path_length(cust2 pickup location, cust1 dropoff location)\n",
        "                distance1d2d = find_path_length(cust1 dropoff location, cust2 dropoff location)\n",
        "                distance2d3p = find_path_length(cust2 dropoff location, cust3 pickup location)\n",
        "                distance2p3p = find_path_length(cust2 pickup location, cust3 pickup location)\n",
        "\n",
        "                if (distance2p1d + distance1d2d + distance2d3p) <= distance2p3p:\n",
        "                    temp_list = find_shortest_path(cust2 pickup location, cust1 dropoff location)\n",
        "                    temp_list.pop(0)\n",
        "                    van_list[\"path\"] += temp_list\n",
        "                    temp_list = find_shortest_path(cust1 dropoff location, cust2 dropoff location)\n",
        "                    temp_list.pop(0)\n",
        "                    van_list[\"path\"] += temp_list\n",
        "                    temp_list = find_shortest_path(cust2 dropoff location, cust3 pickup location)\n",
        "                    temp_list.pop(0)\n",
        "                    van_list[\"path\"] += temp_list\n",
        "                    temp_list = find_shortest_path(cust3 pickup location, cust3 dropoff location)\n",
        "                    temp_list.pop(0)\n",
        "                    van_list[\"path\"] += temp_list\n",
        "\n",
        "                # else check if we can dropoff cust1 before picking up cust3\n",
        "                distance1d3p = find_path_length(cust1 dropoff location, cust3 pickup location)\n",
        "                elif (distance2p1d + distance1d3p) <= distance2p3p:\n",
        "                      temp_list = find_shortest_path(cust2 pickup location, cust1 dropoff location)\n",
        "                      temp_list.pop(0)\n",
        "                      van_list[\"path\"] += temp_list\n",
        "                      temp_list = find_shortest_path(cust2 pickup location, cust3 pickup location)\n",
        "                      temp_list.pop(0)\n",
        "                      van_list[\"path\"] += temp_list\n",
        "                      temp_list = find_shortest_path(cust3 pickup location, cust2 dropoff location)\n",
        "                      temp_list.pop(0)\n",
        "                      van_list[\"path\"] += temp_list\n",
        "                      temp_list = find_shortest_path(cust2 dropoff location, cust3 dropoff location)\n",
        "                      temp_list.pop(0)\n",
        "                      van_list[\"path\"] += temp_list\n",
        "\n",
        "                # else check if we can dropoff cust2 before picking up cust3\n",
        "                distance2p2d = find_path_length(cust2 pickup location, cust2 dropoff location)\n",
        "                elif (distance2p2d + distance2d3p) <= distance2p3p:\n",
        "                      temp_list = find_shortest_path(cust2 pickup location, cust2 dropoff location)\n",
        "                      temp_list.pop(0)\n",
        "                      van_list[\"path\"] += temp_list\n",
        "                      temp_list = find_shortest_path(cust2 dropoff location, cust3 pickup location)\n",
        "                      temp_list.pop(0)\n",
        "                      van_list[\"path\"] += temp_list\n",
        "                      temp_list = find_shortest_path(cust3 pickup location, cust1 dropoff location)\n",
        "                      temp_list.pop(0)\n",
        "                      van_list[\"path\"] += temp_list\n",
        "                      temp_list = find_shortest_path(cust1 dropoff location, cust3 dropoff location)\n",
        "                      temp_list.pop(0)\n",
        "                      van_list[\"path\"] += temp_list\n",
        "\n",
        "                # else pickup cust3\n",
        "                else:\n",
        "                      temp_list = find_shortest_path(cust2 pickup location, cust3 pickup location)\n",
        "                      temp_list.pop(0)\n",
        "                      van_list[\"path\"] += temp_list\n",
        "                      temp_list = find_shortest_path(cust3 pickup location, cust1 dropoff location)\n",
        "                      temp_list.pop(0)\n",
        "                      van_list[\"path\"] += temp_list\n",
        "                      temp_list = find_shortest_path(cust1 dropoff location, cust2 dropoff location)\n",
        "                      temp_list.pop(0)\n",
        "                      van_list[\"path\"] += temp_list\n",
        "                      temp_list = find_shortest_path(cust2 dropoff location, cust3 dropoff location)\n",
        "                      temp_list.pop(0)\n",
        "                      van_list[\"path\"] += temp_list\n",
        "\n",
        "        else distance1p3p < distance1p2p:\n",
        "            # check if we can dropoff cust1 before picking up cust3\n",
        "            distance1p1d = find_path_length(cust1 pickup location, cust1 dropoff location)\n",
        "            distance1d3p = find_path_length(cust1 dropoff location, cust3 pickup location)\n",
        "            distance1p3p = find_path_length(cust1 pickup location, cust3 pickup location)\n",
        "            \n",
        "            if (distance1p1d + distance1d3p) <= distance1p3p:\n",
        "                temp_list = find_shortest_path(cust1 pickup location, cust1 dropoff location)\n",
        "                temp_list.pop(0)\n",
        "                van_list[\"path\"] += temp_list\n",
        "                temp_list = find_shortest_path(cust1 dropoff location, cust3 pickup location)\n",
        "                temp_list.pop(0)\n",
        "                van_list[\"path\"] += temp_list\n",
        "\n",
        "                #check if dropoff cust3 before picking up cust2\n",
        "                distance3p3d = find_path_length(cust3 pickup location, cust3 dropoff location)\n",
        "                distance3d2p = find_path_length(cust3 dropoff location, cust2 pickup location)\n",
        "                distance3p2p = find_path_length(cust3 pickup location, cust2 pickup location)\n",
        "\n",
        "                if (distance3p3d + distance3d2p) <= disance3p2p:\n",
        "                    temp_list = find_shortest_path(cust3 pickup location, cust3 dropoff location)\n",
        "                    temp_list.pop(0)\n",
        "                    van_list[\"path\"] += temp_list\n",
        "                    temp_list = find_shortest_path(cust3 dropoff location, cust2 pickup location)\n",
        "                    temp_list.pop(0)\n",
        "                    van_list[\"path\"] += temp_list\n",
        "                    temp_list = find_shortest_path(cust2 pickup location, cust2 dropoff location)\n",
        "                    temp_list.pop(0)\n",
        "                    van_list[\"path\"] += temp_list\n",
        "\n",
        "                else:\n",
        "                    temp_list = find_shortest_path(cust3 pickup location, cust2 pickup location)\n",
        "                    temp_list.pop(0)\n",
        "                    van_list[\"path\"] += temp_list\n",
        "                    temp_list = find_shortest_path(cust2 pickup location, cust3 dropoff location)\n",
        "                    temp_list.pop(0)\n",
        "                    van_list[\"path\"] += temp_list\n",
        "                    temp_list = find_shortest_path(cust3 dropoff location, cust2 dropoff location)\n",
        "                    temp_list.pop(0)\n",
        "                    van_list[\"path\"] += temp_list\n",
        "\n",
        "            #pickup cust3 before dropping off cust2\n",
        "            else: \n",
        "                  temp_list = find_shortest_path(cust1 pickup location, cust3 pickup location)\n",
        "                  temp_list.pop(0)\n",
        "                  van_list[\"path\"] += temp_list\n",
        "\n",
        "                # check if we can dropff cust1 and cust3 before picking up cust2\n",
        "                distance3p1d = find_path_length(cust3 pickup location, cust1 dropoff location)\n",
        "                distance1d3d = find_path_length(cust1 dropoff location, cust3 dropoff location)\n",
        "                distance3d2p = find_path_length(cust3 dropoff location, cust2 pickup location)\n",
        "                distance3p2p = find_path_length(cust3 pickup location, cust2 pickup location)\n",
        "\n",
        "                if (distance3p1d + distance1d3d + distance3d2p) <= distance3p2p:\n",
        "                    temp_list = find_shortest_path(cust3 pickup location, cust1 dropoff location)\n",
        "                    temp_list.pop(0)\n",
        "                    van_list[\"path\"] += temp_list\n",
        "                    temp_list = find_shortest_path(cust1 dropoff location, cust3 dropoff location)\n",
        "                    temp_list.pop(0)\n",
        "                    van_list[\"path\"] += temp_list\n",
        "                    temp_list = find_shortest_path(cust3 dropoff location, cust2 pickup location)\n",
        "                    temp_list.pop(0)\n",
        "                    van_list[\"path\"] += temp_list\n",
        "                    temp_list = find_shortest_path(cust2 pickup location, cust2 dropoff location)\n",
        "                    temp_list.pop(0)\n",
        "                    van_list[\"path\"] += temp_list\n",
        "\n",
        "                # else check if we can dropoff cust1 before picking up cust2\n",
        "                distance1d2p = find_path_length(cust1 dropoff location, cust2 pickup location)\n",
        "                elif (distance3p1d + distance1d2p) <= distance3p2p:\n",
        "                      temp_list = find_shortest_path(cust3 pickup location, cust1 dropoff location)\n",
        "                      temp_list.pop(0)\n",
        "                      van_list[\"path\"] += temp_list\n",
        "                      temp_list = find_shortest_path(cust1 dropoff location, cust2 pickup location)\n",
        "                      temp_list.pop(0)\n",
        "                      van_list[\"path\"] += temp_list\n",
        "                      temp_list = find_shortest_path(cust2 pickup location, cust3 dropoff location)\n",
        "                      temp_list.pop(0)\n",
        "                      van_list[\"path\"] += temp_list\n",
        "                      temp_list = find_shortest_path(cust3 dropoff location, cust2 dropoff location)\n",
        "                      temp_list.pop(0)\n",
        "                      van_list[\"path\"] += temp_list\n",
        "\n",
        "                # else check if we can dropoff cust3 before picking up cust2\n",
        "                distance3p3d = find_path_length(cust3 pickup location, cust3 dropoff location)\n",
        "                elif (distance3p3d + distance3d2p) <= distance3p2p:\n",
        "                      temp_list = find_shortest_path(cust3 pickup location, cust3 dropoff location)\n",
        "                      temp_list.pop(0)\n",
        "                      van_list[\"path\"] += temp_list\n",
        "                      temp_list = find_shortest_path(cust3 dropoff location, cust2 pickup location)\n",
        "                      temp_list.pop(0)\n",
        "                      van_list[\"path\"] += temp_list\n",
        "                      temp_list = find_shortest_path(cust2 pickup location, cust1 dropoff location)\n",
        "                      temp_list.pop(0)\n",
        "                      van_list[\"path\"] += temp_list\n",
        "                      temp_list = find_shortest_path(cust1 dropoff location, cust2 dropoff location)\n",
        "                      temp_list.pop(0)\n",
        "                      van_list[\"path\"] += temp_list\n",
        "\n",
        "                # else pickup cust2\n",
        "                else:\n",
        "                      temp_list = find_shortest_path(cust3 pickup location, cust2 pickup location)\n",
        "                      temp_list.pop(0)\n",
        "                      van_list[\"path\"] += temp_list\n",
        "                      temp_list = find_shortest_path(cust2 pickup location, cust1 dropoff location)\n",
        "                      temp_list.pop(0)\n",
        "                      van_list[\"path\"] += temp_list\n",
        "                      temp_list = find_shortest_path(cust1 dropoff location, cust3 dropoff location)\n",
        "                      temp_list.pop(0)\n",
        "                      van_list[\"path\"] += temp_list\n",
        "                      temp_list = find_shortest_path(cust3 dropoff location, cust2 dropoff location)\n",
        "                      temp_list.pop(0)\n",
        "                      van_list[\"path\"] += temp_list\n",
        "\n",
        "        # dropoff cust1, then cust3, then cust2 if they haven't been dropped off yet\n",
        "        \n",
        "\n",
        "# picking up cust2 first\n",
        "if distance2 <= distance1:\n",
        "    if distance2 <= distance3:\n",
        "        if cust1 closer:\n",
        "\n",
        "        if cust3 closer:\n",
        "\n",
        "    # dropoff cust1, then cust3, then cust2 if they haven't been dropped off yet\n",
        "\n",
        "# picking up cust3 first\n",
        "if distance3 <= distance1:\n",
        "    if distance3 <= distance2:\n",
        "        if cust1 closer:\n",
        "\n",
        "        if cust2 closer:\n",
        "\n",
        "    # dropoff cust1, then cust3, then cust2 if they haven't been dropped off yet"
      ],
      "metadata": {
        "id": "DzOyABNFyzqN",
        "colab": {
          "base_uri": "https://localhost:8080/",
          "height": 130
        },
        "outputId": "47cf48e8-de7e-4378-fdeb-3421b7a65a08"
      },
      "execution_count": null,
      "outputs": [
        {
          "output_type": "error",
          "ename": "IndentationError",
          "evalue": "ignored",
          "traceback": [
            "\u001b[0;36m  File \u001b[0;32m\"<tokenize>\"\u001b[0;36m, line \u001b[0;32m280\u001b[0m\n\u001b[0;31m    distance2p1d = find_path_length(cust2 pickup location, cust1 dropoff location)\u001b[0m\n\u001b[0m    ^\u001b[0m\n\u001b[0;31mIndentationError\u001b[0m\u001b[0;31m:\u001b[0m unindent does not match any outer indentation level\n"
          ]
        }
      ]
    },
    {
      "cell_type": "code",
      "source": [
        "# add 28 to 40 customers to queue\n",
        "import random\n",
        "import time\n",
        "\n",
        "def add_to_queue(cust_queue, tot_num_cust):\n",
        "  for i in range(0,4):\n",
        "    num_gen_cust = random.randint(7,10)\n",
        "    tot_num_cust += num_gen_cust\n",
        "    for i in range(0,num_gen_cust):\n",
        "      pickup = random.randint(0,99)\n",
        "      dropoff = random.randint(0,99)\n",
        "      while pickup == dropoff:\n",
        "        dropoff = random.randint(0,99)\n",
        "      cust_queue.append((pickup, dropoff))"
      ],
      "metadata": {
        "id": "_PvxACAdwFCr"
      },
      "execution_count": null,
      "outputs": []
    },
    {
      "cell_type": "code",
      "source": [
        "# find the shortest path between 2 nodes\n",
        "def find_shortest_path(startNode, endNode):\n",
        "  return nx.shortest_path(G,startNode,endNode,weight='weight',method='dijkstra')"
      ],
      "metadata": {
        "id": "r7BOCyYgv3Gy"
      },
      "execution_count": null,
      "outputs": []
    },
    {
      "cell_type": "code",
      "source": [
        "# find the path length between 2 nodes\n",
        "def find_path_length(startNode, endNode):\n",
        "  return nx.dijkstra_path_length(G,startNode,endNode)"
      ],
      "metadata": {
        "id": "EZJ3PT9W_GW2"
      },
      "execution_count": null,
      "outputs": []
    },
    {
      "cell_type": "code",
      "execution_count": null,
      "metadata": {
        "colab": {
          "base_uri": "https://localhost:8080/"
        },
        "id": "bkZViO2BV-6j",
        "outputId": "0ee5267d-03fa-407b-b14c-568c0480327e"
      },
      "outputs": [
        {
          "output_type": "execute_result",
          "data": {
            "text/plain": [
              "[2, 24, 12, 44, 9]"
            ]
          },
          "metadata": {},
          "execution_count": 11
        }
      ],
      "source": [
        "nx.shortest_path(G,2,9,weight='weight',method='dijkstra')     # find the shortest path between two nodes using Dijkstra's algorithm; in this case between two nodes                                                      "
      ]
    },
    {
      "cell_type": "markdown",
      "metadata": {
        "id": "6Pfwe74kEAJP"
      },
      "source": [
        "Q1) Find the length of the shortest path using Dijsktra's algorithm."
      ]
    },
    {
      "cell_type": "code",
      "source": [
        "nx.dijkstra_path_length(G,2,9)"
      ],
      "metadata": {
        "colab": {
          "base_uri": "https://localhost:8080/"
        },
        "id": "UnBCUE1hyEhG",
        "outputId": "7369213e-87c1-485c-a07a-3e61dc22e585"
      },
      "execution_count": null,
      "outputs": [
        {
          "output_type": "execute_result",
          "data": {
            "text/plain": [
              "4"
            ]
          },
          "metadata": {},
          "execution_count": 12
        }
      ]
    },
    {
      "cell_type": "markdown",
      "metadata": {
        "id": "J1s5mZVB50Qz"
      },
      "source": [
        "Q2) Make use of the A* algorithm to find the shortest path;  A* in general is faster than Dijkstra's algorithm."
      ]
    },
    {
      "cell_type": "code",
      "source": [
        "nx.astar_path(G,2,9)"
      ],
      "metadata": {
        "colab": {
          "base_uri": "https://localhost:8080/"
        },
        "id": "I9nT2Cwmye0Y",
        "outputId": "e33d2f2f-91be-4801-c0c6-c51f9f344de7"
      },
      "execution_count": null,
      "outputs": [
        {
          "output_type": "execute_result",
          "data": {
            "text/plain": [
              "[2, 24, 12, 44, 9]"
            ]
          },
          "metadata": {},
          "execution_count": 13
        }
      ]
    },
    {
      "cell_type": "markdown",
      "metadata": {
        "id": "h-B5GWzJEaVu"
      },
      "source": [
        "Q3) Find the length of the shortest path using the A* algorithm."
      ]
    },
    {
      "cell_type": "code",
      "source": [
        "nx.astar_path_length(G,2,9)"
      ],
      "metadata": {
        "colab": {
          "base_uri": "https://localhost:8080/"
        },
        "id": "2gBElkXSzEK5",
        "outputId": "863a29f7-923c-45d5-a913-6ff1c8f3df56"
      },
      "execution_count": null,
      "outputs": [
        {
          "output_type": "execute_result",
          "data": {
            "text/plain": [
              "4"
            ]
          },
          "metadata": {},
          "execution_count": 14
        }
      ]
    }
  ],
  "metadata": {
    "colab": {
      "provenance": [],
      "include_colab_link": true
    },
    "kernelspec": {
      "display_name": "Python 3",
      "name": "python3"
    },
    "language_info": {
      "name": "python"
    }
  },
  "nbformat": 4,
  "nbformat_minor": 0
}